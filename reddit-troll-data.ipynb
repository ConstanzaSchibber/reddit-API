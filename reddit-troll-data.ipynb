{
 "cells": [
  {
   "cell_type": "markdown",
   "metadata": {},
   "source": [
    "# Reddit Troll Data: Exploratory Data Analysis\n",
    "\n",
    "Russian troll farms are state-sponsored and they have human operators carrying out deceptive online interference in political campaigns, such as the 2016 US presidential election, and also spread misinformation.\n",
    "\n",
    "Reddit periodically publishes transparency reports that may contain information on the identification and removal of troll accounts or accounts associated with foreign influence campaigns. The [report](https://www.reddit.com/r/announcements/\n",
    "comments/8bb85p/reddits_2017_transparency_report_and_suspect/) published in 2017 included data on 900 accounts which were highly suspected of being Russian Trolls. \n",
    "\n",
    "The data on user accounts and comments by these users is available in csv format and has been used in academic research. I analyze the data below"
   ]
  },
  {
   "cell_type": "markdown",
   "metadata": {},
   "source": [
    "## Libraries"
   ]
  },
  {
   "cell_type": "code",
   "execution_count": 2,
   "metadata": {},
   "outputs": [],
   "source": [
    "import pandas as pd\n",
    "import numpy as np\n",
    "from collections import Counter\n",
    "import json\n",
    "import re\n",
    "import os\n",
    "import matplotlib.pyplot as plt\n",
    "import matplotlib.dates as mdates\n",
    "import datetime as dt\n",
    "from datetime import datetime\n",
    "import random\n",
    "import html\n",
    "from urllib.parse import urlparse, urlsplit\n",
    "from math import floor, ceil"
   ]
  },
  {
   "cell_type": "markdown",
   "metadata": {},
   "source": [
    "# User Accounts Identified as \"Russian Trolls\" by Reddit\n",
    "\n",
    "In the following I look at the **911 users** and explore the data that can be retrieved by user. Below I focus on when the accounts were created, whether the accounts have a veriefied email, and the karma of the users. "
   ]
  },
  {
   "cell_type": "code",
   "execution_count": 3,
   "metadata": {},
   "outputs": [],
   "source": [
    "# read the data\n",
    "reddit_a = []\n",
    "with open('./data/troll_account_data.txt', 'r') as f:\n",
    "    for line in f:\n",
    "        try:\n",
    "            data = json.loads(line)['data']\n",
    "        except:\n",
    "            continue\n",
    "        reddit_a.append(data)\n",
    "\n",
    "reddit_accounts = pd.DataFrame(reddit_a)\n",
    "reddit_accounts['datetime_m'] = pd.to_datetime(reddit_accounts['created_utc'], unit='s')"
   ]
  },
  {
   "cell_type": "markdown",
   "metadata": {},
   "source": [
    "Below we see the first 5 rows of the table `reddit_accounts` that shows the users' data. There are **943 users**. The columns are:\n",
    "\n",
    "- `is_employee`, indicating whether the user is a Reddit employee\n",
    "- `icon_img`, provides a link to the user's avatar\n",
    "- `pref_show_snoovatar`, whether the user prefers to show a customized avatar\n",
    "- `name`, user name\n",
    "- `is_friend`, whether a user is friends with an authenticated user\n",
    "- `has_suscribed`, whether a user has subscribed to any community\n",
    "- `hide_from_robots`, \n",
    "- `created_utc`, UTC for account creation\n",
    "- `link_karma`, karma received from posts\n",
    "- `comment_karma`, karma received from comments\n",
    "- `is_gold`, whether the user has Premium reddit\n",
    "- `is_mod`, whether the user is a moderator in any subreddit \n",
    "- `verified`\n",
    "- `subreddit`, whether the user has created a subreddit\n",
    "- `has_verified_email`, whether the user has a verified email account \n",
    "- `id`, user unique id\n",
    "- `is_suspended`\n",
    "- `datetime_m`, timestamp in which the account was created "
   ]
  },
  {
   "cell_type": "code",
   "execution_count": 4,
   "metadata": {},
   "outputs": [
    {
     "data": {
      "text/html": [
       "<div>\n",
       "<style scoped>\n",
       "    .dataframe tbody tr th:only-of-type {\n",
       "        vertical-align: middle;\n",
       "    }\n",
       "\n",
       "    .dataframe tbody tr th {\n",
       "        vertical-align: top;\n",
       "    }\n",
       "\n",
       "    .dataframe thead th {\n",
       "        text-align: right;\n",
       "    }\n",
       "</style>\n",
       "<table border=\"1\" class=\"dataframe\">\n",
       "  <thead>\n",
       "    <tr style=\"text-align: right;\">\n",
       "      <th></th>\n",
       "      <th>is_employee</th>\n",
       "      <th>icon_img</th>\n",
       "      <th>pref_show_snoovatar</th>\n",
       "      <th>name</th>\n",
       "      <th>is_friend</th>\n",
       "      <th>created</th>\n",
       "      <th>has_subscribed</th>\n",
       "      <th>hide_from_robots</th>\n",
       "      <th>created_utc</th>\n",
       "      <th>link_karma</th>\n",
       "      <th>comment_karma</th>\n",
       "      <th>is_gold</th>\n",
       "      <th>is_mod</th>\n",
       "      <th>verified</th>\n",
       "      <th>subreddit</th>\n",
       "      <th>has_verified_email</th>\n",
       "      <th>id</th>\n",
       "      <th>is_suspended</th>\n",
       "      <th>datetime_m</th>\n",
       "    </tr>\n",
       "  </thead>\n",
       "  <tbody>\n",
       "    <tr>\n",
       "      <th>0</th>\n",
       "      <td>False</td>\n",
       "      <td>https://www.redditstatic.com/avatars/avatar_de...</td>\n",
       "      <td>False</td>\n",
       "      <td>BlackToLive</td>\n",
       "      <td>False</td>\n",
       "      <td>1.467710e+09</td>\n",
       "      <td>True</td>\n",
       "      <td>False</td>\n",
       "      <td>1.467681e+09</td>\n",
       "      <td>1.0</td>\n",
       "      <td>-7.0</td>\n",
       "      <td>False</td>\n",
       "      <td>False</td>\n",
       "      <td>True</td>\n",
       "      <td>{'default_set': True, 'user_is_contributor': N...</td>\n",
       "      <td>True</td>\n",
       "      <td>z919g</td>\n",
       "      <td>NaN</td>\n",
       "      <td>2016-07-05 01:13:18</td>\n",
       "    </tr>\n",
       "    <tr>\n",
       "      <th>1</th>\n",
       "      <td>False</td>\n",
       "      <td>https://www.redditstatic.com/avatars/avatar_de...</td>\n",
       "      <td>False</td>\n",
       "      <td>FaurnFlamebreaker</td>\n",
       "      <td>False</td>\n",
       "      <td>1.431712e+09</td>\n",
       "      <td>False</td>\n",
       "      <td>False</td>\n",
       "      <td>1.431683e+09</td>\n",
       "      <td>1.0</td>\n",
       "      <td>-5.0</td>\n",
       "      <td>False</td>\n",
       "      <td>False</td>\n",
       "      <td>True</td>\n",
       "      <td>{'default_set': True, 'user_is_contributor': N...</td>\n",
       "      <td>False</td>\n",
       "      <td>nhk4d</td>\n",
       "      <td>NaN</td>\n",
       "      <td>2015-05-15 09:44:41</td>\n",
       "    </tr>\n",
       "    <tr>\n",
       "      <th>2</th>\n",
       "      <td>False</td>\n",
       "      <td>https://www.redditstatic.com/avatars/avatar_de...</td>\n",
       "      <td>False</td>\n",
       "      <td>Bill_Jonson</td>\n",
       "      <td>False</td>\n",
       "      <td>1.445083e+09</td>\n",
       "      <td>True</td>\n",
       "      <td>False</td>\n",
       "      <td>1.445054e+09</td>\n",
       "      <td>1.0</td>\n",
       "      <td>-4.0</td>\n",
       "      <td>False</td>\n",
       "      <td>False</td>\n",
       "      <td>True</td>\n",
       "      <td>{'default_set': True, 'user_is_contributor': N...</td>\n",
       "      <td>False</td>\n",
       "      <td>r8rca</td>\n",
       "      <td>NaN</td>\n",
       "      <td>2015-10-17 03:55:40</td>\n",
       "    </tr>\n",
       "    <tr>\n",
       "      <th>3</th>\n",
       "      <td>False</td>\n",
       "      <td>https://www.redditstatic.com/avatars/avatar_de...</td>\n",
       "      <td>False</td>\n",
       "      <td>PurebringerOghmagra</td>\n",
       "      <td>False</td>\n",
       "      <td>1.431722e+09</td>\n",
       "      <td>False</td>\n",
       "      <td>False</td>\n",
       "      <td>1.431694e+09</td>\n",
       "      <td>1.0</td>\n",
       "      <td>0.0</td>\n",
       "      <td>False</td>\n",
       "      <td>False</td>\n",
       "      <td>True</td>\n",
       "      <td>{'default_set': True, 'user_is_contributor': N...</td>\n",
       "      <td>False</td>\n",
       "      <td>nhml3</td>\n",
       "      <td>NaN</td>\n",
       "      <td>2015-05-15 12:38:42</td>\n",
       "    </tr>\n",
       "    <tr>\n",
       "      <th>4</th>\n",
       "      <td>False</td>\n",
       "      <td>https://www.redditstatic.com/avatars/avatar_de...</td>\n",
       "      <td>False</td>\n",
       "      <td>Clawisma</td>\n",
       "      <td>False</td>\n",
       "      <td>1.442453e+09</td>\n",
       "      <td>True</td>\n",
       "      <td>False</td>\n",
       "      <td>1.442424e+09</td>\n",
       "      <td>1.0</td>\n",
       "      <td>-2.0</td>\n",
       "      <td>False</td>\n",
       "      <td>False</td>\n",
       "      <td>True</td>\n",
       "      <td>{'default_set': True, 'user_is_contributor': N...</td>\n",
       "      <td>False</td>\n",
       "      <td>qidqv</td>\n",
       "      <td>NaN</td>\n",
       "      <td>2015-09-16 17:22:29</td>\n",
       "    </tr>\n",
       "  </tbody>\n",
       "</table>\n",
       "</div>"
      ],
      "text/plain": [
       "  is_employee                                           icon_img  \\\n",
       "0       False  https://www.redditstatic.com/avatars/avatar_de...   \n",
       "1       False  https://www.redditstatic.com/avatars/avatar_de...   \n",
       "2       False  https://www.redditstatic.com/avatars/avatar_de...   \n",
       "3       False  https://www.redditstatic.com/avatars/avatar_de...   \n",
       "4       False  https://www.redditstatic.com/avatars/avatar_de...   \n",
       "\n",
       "  pref_show_snoovatar                 name is_friend       created  \\\n",
       "0               False          BlackToLive     False  1.467710e+09   \n",
       "1               False    FaurnFlamebreaker     False  1.431712e+09   \n",
       "2               False          Bill_Jonson     False  1.445083e+09   \n",
       "3               False  PurebringerOghmagra     False  1.431722e+09   \n",
       "4               False             Clawisma     False  1.442453e+09   \n",
       "\n",
       "  has_subscribed hide_from_robots   created_utc  link_karma  comment_karma  \\\n",
       "0           True            False  1.467681e+09         1.0           -7.0   \n",
       "1          False            False  1.431683e+09         1.0           -5.0   \n",
       "2           True            False  1.445054e+09         1.0           -4.0   \n",
       "3          False            False  1.431694e+09         1.0            0.0   \n",
       "4           True            False  1.442424e+09         1.0           -2.0   \n",
       "\n",
       "  is_gold is_mod verified                                          subreddit  \\\n",
       "0   False  False     True  {'default_set': True, 'user_is_contributor': N...   \n",
       "1   False  False     True  {'default_set': True, 'user_is_contributor': N...   \n",
       "2   False  False     True  {'default_set': True, 'user_is_contributor': N...   \n",
       "3   False  False     True  {'default_set': True, 'user_is_contributor': N...   \n",
       "4   False  False     True  {'default_set': True, 'user_is_contributor': N...   \n",
       "\n",
       "  has_verified_email     id is_suspended          datetime_m  \n",
       "0               True  z919g          NaN 2016-07-05 01:13:18  \n",
       "1              False  nhk4d          NaN 2015-05-15 09:44:41  \n",
       "2              False  r8rca          NaN 2015-10-17 03:55:40  \n",
       "3              False  nhml3          NaN 2015-05-15 12:38:42  \n",
       "4              False  qidqv          NaN 2015-09-16 17:22:29  "
      ]
     },
     "execution_count": 4,
     "metadata": {},
     "output_type": "execute_result"
    }
   ],
   "source": [
    "reddit_accounts.head()"
   ]
  },
  {
   "cell_type": "code",
   "execution_count": 5,
   "metadata": {},
   "outputs": [
    {
     "data": {
      "text/plain": [
       "(943, 19)"
      ]
     },
     "execution_count": 5,
     "metadata": {},
     "output_type": "execute_result"
    }
   ],
   "source": [
    "reddit_accounts.shape"
   ]
  },
  {
   "cell_type": "code",
   "execution_count": 6,
   "metadata": {},
   "outputs": [
    {
     "name": "stdout",
     "output_type": "stream",
     "text": [
      "<class 'pandas.core.frame.DataFrame'>\n",
      "RangeIndex: 943 entries, 0 to 942\n",
      "Data columns (total 19 columns):\n",
      " #   Column               Non-Null Count  Dtype         \n",
      "---  ------               --------------  -----         \n",
      " 0   is_employee          942 non-null    object        \n",
      " 1   icon_img             942 non-null    object        \n",
      " 2   pref_show_snoovatar  942 non-null    object        \n",
      " 3   name                 943 non-null    object        \n",
      " 4   is_friend            942 non-null    object        \n",
      " 5   created              942 non-null    float64       \n",
      " 6   has_subscribed       942 non-null    object        \n",
      " 7   hide_from_robots     942 non-null    object        \n",
      " 8   created_utc          942 non-null    float64       \n",
      " 9   link_karma           942 non-null    float64       \n",
      " 10  comment_karma        942 non-null    float64       \n",
      " 11  is_gold              942 non-null    object        \n",
      " 12  is_mod               942 non-null    object        \n",
      " 13  verified             942 non-null    object        \n",
      " 14  subreddit            942 non-null    object        \n",
      " 15  has_verified_email   938 non-null    object        \n",
      " 16  id                   942 non-null    object        \n",
      " 17  is_suspended         1 non-null      object        \n",
      " 18  datetime_m           942 non-null    datetime64[ns]\n",
      "dtypes: datetime64[ns](1), float64(4), object(14)\n",
      "memory usage: 140.1+ KB\n"
     ]
    }
   ],
   "source": [
    "reddit_accounts.info()"
   ]
  },
  {
   "cell_type": "markdown",
   "metadata": {},
   "source": [
    "### When were the accounts created? "
   ]
  },
  {
   "cell_type": "markdown",
   "metadata": {},
   "source": [
    "The accounts identified as `Russian Trolls` as were created between May 2010 and January 2018. Interestingly,75.4% of the accounts were created in May 2015, right when the primary presidential elections in the United States were beginning (Clinton officially announced her campagin in April 2015 and Trump in June 2015). The figure below shows the large spike in account creation in May 2015, while there were other smaller ones in the following months leading to the primaries and the presidential election in November 2016."
   ]
  },
  {
   "cell_type": "code",
   "execution_count": 7,
   "metadata": {},
   "outputs": [
    {
     "data": {
      "text/plain": [
       "(Timestamp('2010-05-28 07:44:27'), Timestamp('2018-01-13 10:43:28'))"
      ]
     },
     "execution_count": 7,
     "metadata": {},
     "output_type": "execute_result"
    }
   ],
   "source": [
    "reddit_accounts.datetime_m.min(), reddit_accounts.datetime_m.max()"
   ]
  },
  {
   "cell_type": "code",
   "execution_count": 8,
   "metadata": {},
   "outputs": [],
   "source": [
    "# function to calculate number of user accounts created by month\n",
    "def get_counts_month(df, key, user_key):\n",
    "    df['datetime'] = pd.to_datetime(df[key])\n",
    "    df = df[[user_key,key, 'datetime']].drop_duplicates()    \n",
    "    start_date = '2010-05-01'\n",
    "    end_date = '2018-01-31'\n",
    "    counts_month = df[[user_key, 'datetime']].groupby(pd.Grouper(key='datetime', freq='w')).count()\n",
    "    counts_month.index = pd.DatetimeIndex(counts_month.index)\n",
    "    idx = pd.date_range(start_date, end_date, freq='w')\n",
    "    counts_month = counts_month.reindex(idx, fill_value=0)\n",
    "    return counts_month"
   ]
  },
  {
   "cell_type": "code",
   "execution_count": 9,
   "metadata": {},
   "outputs": [],
   "source": [
    "# plot for time-series which also adds months in which zero accounts were created for better time series\n",
    "def plot_days_counts_agg(list_days_and_counts, path, leg, colors, lines):\n",
    "    fig, ax = plt.subplots(figsize=(12,4.5))\n",
    "\n",
    "    k=0\n",
    "    for days_and_counts in list_days_and_counts:\n",
    "        counts = [x[0] for x in days_and_counts]\n",
    "        days = [datetime.strptime(x[1], '%d-%m-%Y') for x in days_and_counts]\n",
    "        days2 = mdates.date2num(days)\n",
    "        ax.plot_date(days2, counts, colors[k], linestyle=lines[k])\n",
    "        k+=1\n",
    "\n",
    "    months = mdates.MonthLocator(range(1,13), bymonthday=1, interval=3)\n",
    "    monthsFmt = mdates.DateFormatter(\"%m/%y\")     \n",
    "    ax.xaxis.set_major_locator(months)\n",
    "    ax.xaxis.set_major_formatter(monthsFmt)\n",
    "    ax.autoscale_view()\n",
    "\n",
    "    fig.autofmt_xdate()\n",
    "    plt.ylabel('# of accounts created')\n",
    "    plt.grid()\n",
    "    plt.xticks(rotation=40)\n",
    "    plt.legend(leg, loc='best', fontsize=13)\n",
    "    plt.margins(x=0)\n",
    "    for tick in ax.xaxis.get_major_ticks():\n",
    "        tick.label1.set_horizontalalignment('center')\n",
    "    for item in ([ax.xaxis.label, ax.yaxis.label] +\n",
    "        ax.get_xticklabels() + ax.get_yticklabels()):\n",
    "        item.set_fontsize(12)\n",
    "    plt.savefig(path, bbox_inches='tight')\n",
    "    plt.show()"
   ]
  },
  {
   "cell_type": "code",
   "execution_count": 10,
   "metadata": {},
   "outputs": [
    {
     "data": {
      "image/png": "[encoded data removed]",
      "text/plain": [
       "<Figure size 1200x450 with 1 Axes>"
      ]
     },
     "metadata": {},
     "output_type": "display_data"
    }
   ],
   "source": [
    "counts_month = get_counts_month(reddit_accounts, 'datetime_m', 'name')\n",
    "counts_per_day4 = counts_month['name'].tolist()\n",
    "days4 = counts_month.index.date.tolist()\n",
    "filter_days = [ (i, j.strftime('%d-%m-%Y')) for (i,j) in zip(counts_per_day4, days4) ]\n",
    "\n",
    "plot_days_counts_agg([filter_days], path='./figures_users/counts_created_accounts_week_agg.pdf',\n",
    "                    colors=\"red\", lines=\"-\", \n",
    "                    leg=['Reddit - Russian trolls'])\n",
    "\n"
   ]
  },
  {
   "cell_type": "code",
   "execution_count": 11,
   "metadata": {},
   "outputs": [
    {
     "data": {
      "text/plain": [
       "name    75.4\n",
       "dtype: float64"
      ]
     },
     "execution_count": 11,
     "metadata": {},
     "output_type": "execute_result"
    }
   ],
   "source": [
    "# percentage of accounts that were created in May 2015\n",
    "round(counts_month.max()/len(reddit_accounts)*100, 2)"
   ]
  },
  {
   "cell_type": "markdown",
   "metadata": {},
   "source": [
    "## Were the accounts verified?\n",
    "\n",
    "While there is no information on how many reddit accounts have a verified email, from the users identified as Russian Trolls, only 196 (21%) have a verified email. "
   ]
  },
  {
   "cell_type": "code",
   "execution_count": 12,
   "metadata": {},
   "outputs": [
    {
     "name": "stdout",
     "output_type": "stream",
     "text": [
      "Account has a verified email\n"
     ]
    },
    {
     "data": {
      "text/plain": [
       "False    742\n",
       "True     196\n",
       "Name: has_verified_email, dtype: int64"
      ]
     },
     "execution_count": 12,
     "metadata": {},
     "output_type": "execute_result"
    }
   ],
   "source": [
    "print('Account has a verified email')\n",
    "reddit_accounts.has_verified_email.value_counts()"
   ]
  },
  {
   "cell_type": "markdown",
   "metadata": {},
   "source": [
    "## Users' Karma\n",
    "\n",
    "Users can receive `karma` creating a post in a subreddit (`link karma`) or commenting in a post (`comment karma`). Karma is calculated from the votes other users give by voting up or down a post or comment, meaning that karma can be negative or positive. Karma is also cumulative as it adds up all karma from posts and comments from a user.\n",
    "\n",
    "The minimum link karma is 1 and the maximum is 99493, with 72.43% users (613) having a link karma of 1 which can possibly mean they never created a post.  \n",
    "\n",
    "The minimum comment karma is -20 and the maximum is 32373, with 86.5% users (816) having a comment karma of 0. "
   ]
  },
  {
   "cell_type": "code",
   "execution_count": 13,
   "metadata": {},
   "outputs": [
    {
     "name": "stdout",
     "output_type": "stream",
     "text": [
      "Comment Karma of Users\n"
     ]
    },
    {
     "data": {
      "text/plain": [
       "-20.0       3\n",
       "-14.0       1\n",
       "-10.0       1\n",
       "-8.0        2\n",
       "-7.0        2\n",
       "           ..\n",
       " 3072.0     1\n",
       " 3275.0     1\n",
       " 4406.0     1\n",
       " 4899.0     1\n",
       " 32373.0    1\n",
       "Name: comment_karma, Length: 79, dtype: int64"
      ]
     },
     "execution_count": 13,
     "metadata": {},
     "output_type": "execute_result"
    }
   ],
   "source": [
    "print('Comment Karma of Users')\n",
    "reddit_accounts.comment_karma.value_counts().sort_index()"
   ]
  },
  {
   "cell_type": "code",
   "execution_count": 14,
   "metadata": {},
   "outputs": [
    {
     "name": "stdout",
     "output_type": "stream",
     "text": [
      "Users with Comment Karma = 0\n"
     ]
    },
    {
     "data": {
      "text/plain": [
       "816"
      ]
     },
     "execution_count": 14,
     "metadata": {},
     "output_type": "execute_result"
    }
   ],
   "source": [
    "print('Users with Comment Karma = 0')\n",
    "reddit_accounts.comment_karma.value_counts().sort_index().max()"
   ]
  },
  {
   "cell_type": "code",
   "execution_count": 15,
   "metadata": {},
   "outputs": [
    {
     "data": {
      "text/plain": [
       "count      942.000000\n",
       "mean        70.376858\n",
       "std       1095.636896\n",
       "min        -20.000000\n",
       "25%          0.000000\n",
       "50%          0.000000\n",
       "75%          0.000000\n",
       "max      32373.000000\n",
       "Name: comment_karma, dtype: float64"
      ]
     },
     "execution_count": 15,
     "metadata": {},
     "output_type": "execute_result"
    }
   ],
   "source": [
    "reddit_accounts.comment_karma.describe()"
   ]
  },
  {
   "cell_type": "code",
   "execution_count": 16,
   "metadata": {},
   "outputs": [
    {
     "data": {
      "text/html": [
       "<div>\n",
       "<style scoped>\n",
       "    .dataframe tbody tr th:only-of-type {\n",
       "        vertical-align: middle;\n",
       "    }\n",
       "\n",
       "    .dataframe tbody tr th {\n",
       "        vertical-align: top;\n",
       "    }\n",
       "\n",
       "    .dataframe thead th {\n",
       "        text-align: right;\n",
       "    }\n",
       "</style>\n",
       "<table border=\"1\" class=\"dataframe\">\n",
       "  <thead>\n",
       "    <tr style=\"text-align: right;\">\n",
       "      <th></th>\n",
       "      <th>comment_karma</th>\n",
       "      <th>count</th>\n",
       "    </tr>\n",
       "  </thead>\n",
       "  <tbody>\n",
       "    <tr>\n",
       "      <th>7</th>\n",
       "      <td>-20.0</td>\n",
       "      <td>3</td>\n",
       "    </tr>\n",
       "    <tr>\n",
       "      <th>56</th>\n",
       "      <td>-14.0</td>\n",
       "      <td>1</td>\n",
       "    </tr>\n",
       "    <tr>\n",
       "      <th>66</th>\n",
       "      <td>-10.0</td>\n",
       "      <td>1</td>\n",
       "    </tr>\n",
       "    <tr>\n",
       "      <th>16</th>\n",
       "      <td>-8.0</td>\n",
       "      <td>2</td>\n",
       "    </tr>\n",
       "    <tr>\n",
       "      <th>12</th>\n",
       "      <td>-7.0</td>\n",
       "      <td>2</td>\n",
       "    </tr>\n",
       "    <tr>\n",
       "      <th>...</th>\n",
       "      <td>...</td>\n",
       "      <td>...</td>\n",
       "    </tr>\n",
       "    <tr>\n",
       "      <th>37</th>\n",
       "      <td>3072.0</td>\n",
       "      <td>1</td>\n",
       "    </tr>\n",
       "    <tr>\n",
       "      <th>78</th>\n",
       "      <td>3275.0</td>\n",
       "      <td>1</td>\n",
       "    </tr>\n",
       "    <tr>\n",
       "      <th>77</th>\n",
       "      <td>4406.0</td>\n",
       "      <td>1</td>\n",
       "    </tr>\n",
       "    <tr>\n",
       "      <th>53</th>\n",
       "      <td>4899.0</td>\n",
       "      <td>1</td>\n",
       "    </tr>\n",
       "    <tr>\n",
       "      <th>36</th>\n",
       "      <td>32373.0</td>\n",
       "      <td>1</td>\n",
       "    </tr>\n",
       "  </tbody>\n",
       "</table>\n",
       "<p>79 rows × 2 columns</p>\n",
       "</div>"
      ],
      "text/plain": [
       "    comment_karma  count\n",
       "7           -20.0      3\n",
       "56          -14.0      1\n",
       "66          -10.0      1\n",
       "16           -8.0      2\n",
       "12           -7.0      2\n",
       "..            ...    ...\n",
       "37         3072.0      1\n",
       "78         3275.0      1\n",
       "77         4406.0      1\n",
       "53         4899.0      1\n",
       "36        32373.0      1\n",
       "\n",
       "[79 rows x 2 columns]"
      ]
     },
     "execution_count": 16,
     "metadata": {},
     "output_type": "execute_result"
    }
   ],
   "source": [
    "karma_counts = pd.DataFrame(reddit_accounts.comment_karma.value_counts().reset_index().rename(columns={\"index\": \"comment_karma\", \"comment_karma\": \"count\"}))\n",
    "karma_counts.sort_values(by = [\"comment_karma\"])"
   ]
  },
  {
   "cell_type": "code",
   "execution_count": 17,
   "metadata": {},
   "outputs": [
    {
     "data": {
      "text/html": [
       "<div>\n",
       "<style scoped>\n",
       "    .dataframe tbody tr th:only-of-type {\n",
       "        vertical-align: middle;\n",
       "    }\n",
       "\n",
       "    .dataframe tbody tr th {\n",
       "        vertical-align: top;\n",
       "    }\n",
       "\n",
       "    .dataframe thead th {\n",
       "        text-align: right;\n",
       "    }\n",
       "</style>\n",
       "<table border=\"1\" class=\"dataframe\">\n",
       "  <thead>\n",
       "    <tr style=\"text-align: right;\">\n",
       "      <th></th>\n",
       "      <th>link karma</th>\n",
       "      <th>count</th>\n",
       "    </tr>\n",
       "  </thead>\n",
       "  <tbody>\n",
       "    <tr>\n",
       "      <th>0</th>\n",
       "      <td>1.0</td>\n",
       "      <td>683</td>\n",
       "    </tr>\n",
       "    <tr>\n",
       "      <th>1</th>\n",
       "      <td>11.0</td>\n",
       "      <td>7</td>\n",
       "    </tr>\n",
       "    <tr>\n",
       "      <th>2</th>\n",
       "      <td>6.0</td>\n",
       "      <td>6</td>\n",
       "    </tr>\n",
       "    <tr>\n",
       "      <th>3</th>\n",
       "      <td>7.0</td>\n",
       "      <td>6</td>\n",
       "    </tr>\n",
       "    <tr>\n",
       "      <th>4</th>\n",
       "      <td>23.0</td>\n",
       "      <td>5</td>\n",
       "    </tr>\n",
       "    <tr>\n",
       "      <th>...</th>\n",
       "      <td>...</td>\n",
       "      <td>...</td>\n",
       "    </tr>\n",
       "    <tr>\n",
       "      <th>187</th>\n",
       "      <td>260.0</td>\n",
       "      <td>1</td>\n",
       "    </tr>\n",
       "    <tr>\n",
       "      <th>188</th>\n",
       "      <td>241.0</td>\n",
       "      <td>1</td>\n",
       "    </tr>\n",
       "    <tr>\n",
       "      <th>189</th>\n",
       "      <td>236.0</td>\n",
       "      <td>1</td>\n",
       "    </tr>\n",
       "    <tr>\n",
       "      <th>190</th>\n",
       "      <td>68.0</td>\n",
       "      <td>1</td>\n",
       "    </tr>\n",
       "    <tr>\n",
       "      <th>191</th>\n",
       "      <td>99493.0</td>\n",
       "      <td>1</td>\n",
       "    </tr>\n",
       "  </tbody>\n",
       "</table>\n",
       "<p>192 rows × 2 columns</p>\n",
       "</div>"
      ],
      "text/plain": [
       "     link karma  count\n",
       "0           1.0    683\n",
       "1          11.0      7\n",
       "2           6.0      6\n",
       "3           7.0      6\n",
       "4          23.0      5\n",
       "..          ...    ...\n",
       "187       260.0      1\n",
       "188       241.0      1\n",
       "189       236.0      1\n",
       "190        68.0      1\n",
       "191     99493.0      1\n",
       "\n",
       "[192 rows x 2 columns]"
      ]
     },
     "execution_count": 17,
     "metadata": {},
     "output_type": "execute_result"
    }
   ],
   "source": [
    "reddit_accounts.link_karma.value_counts().reset_index().rename(columns={\"index\": \"link karma\", \"link_karma\": \"count\"})"
   ]
  },
  {
   "cell_type": "code",
   "execution_count": 18,
   "metadata": {},
   "outputs": [
    {
     "data": {
      "text/plain": [
       "count      942.000000\n",
       "mean       629.769639\n",
       "std       4454.341919\n",
       "min          1.000000\n",
       "25%          1.000000\n",
       "50%          1.000000\n",
       "75%          7.000000\n",
       "max      99493.000000\n",
       "Name: link_karma, dtype: float64"
      ]
     },
     "execution_count": 18,
     "metadata": {},
     "output_type": "execute_result"
    }
   ],
   "source": [
    "reddit_accounts.link_karma.describe()"
   ]
  },
  {
   "cell_type": "code",
   "execution_count": 19,
   "metadata": {},
   "outputs": [
    {
     "data": {
      "text/html": [
       "<div>\n",
       "<style scoped>\n",
       "    .dataframe tbody tr th:only-of-type {\n",
       "        vertical-align: middle;\n",
       "    }\n",
       "\n",
       "    .dataframe tbody tr th {\n",
       "        vertical-align: top;\n",
       "    }\n",
       "\n",
       "    .dataframe thead th {\n",
       "        text-align: right;\n",
       "    }\n",
       "</style>\n",
       "<table border=\"1\" class=\"dataframe\">\n",
       "  <thead>\n",
       "    <tr style=\"text-align: right;\">\n",
       "      <th></th>\n",
       "      <th>link karma</th>\n",
       "      <th>count</th>\n",
       "    </tr>\n",
       "  </thead>\n",
       "  <tbody>\n",
       "    <tr>\n",
       "      <th>0</th>\n",
       "      <td>1.0</td>\n",
       "      <td>683</td>\n",
       "    </tr>\n",
       "    <tr>\n",
       "      <th>1</th>\n",
       "      <td>11.0</td>\n",
       "      <td>7</td>\n",
       "    </tr>\n",
       "    <tr>\n",
       "      <th>2</th>\n",
       "      <td>6.0</td>\n",
       "      <td>6</td>\n",
       "    </tr>\n",
       "    <tr>\n",
       "      <th>3</th>\n",
       "      <td>7.0</td>\n",
       "      <td>6</td>\n",
       "    </tr>\n",
       "    <tr>\n",
       "      <th>4</th>\n",
       "      <td>23.0</td>\n",
       "      <td>5</td>\n",
       "    </tr>\n",
       "    <tr>\n",
       "      <th>...</th>\n",
       "      <td>...</td>\n",
       "      <td>...</td>\n",
       "    </tr>\n",
       "    <tr>\n",
       "      <th>187</th>\n",
       "      <td>260.0</td>\n",
       "      <td>1</td>\n",
       "    </tr>\n",
       "    <tr>\n",
       "      <th>188</th>\n",
       "      <td>241.0</td>\n",
       "      <td>1</td>\n",
       "    </tr>\n",
       "    <tr>\n",
       "      <th>189</th>\n",
       "      <td>236.0</td>\n",
       "      <td>1</td>\n",
       "    </tr>\n",
       "    <tr>\n",
       "      <th>190</th>\n",
       "      <td>68.0</td>\n",
       "      <td>1</td>\n",
       "    </tr>\n",
       "    <tr>\n",
       "      <th>191</th>\n",
       "      <td>99493.0</td>\n",
       "      <td>1</td>\n",
       "    </tr>\n",
       "  </tbody>\n",
       "</table>\n",
       "<p>192 rows × 2 columns</p>\n",
       "</div>"
      ],
      "text/plain": [
       "     link karma  count\n",
       "0           1.0    683\n",
       "1          11.0      7\n",
       "2           6.0      6\n",
       "3           7.0      6\n",
       "4          23.0      5\n",
       "..          ...    ...\n",
       "187       260.0      1\n",
       "188       241.0      1\n",
       "189       236.0      1\n",
       "190        68.0      1\n",
       "191     99493.0      1\n",
       "\n",
       "[192 rows x 2 columns]"
      ]
     },
     "execution_count": 19,
     "metadata": {},
     "output_type": "execute_result"
    }
   ],
   "source": [
    "reddit_accounts.link_karma.value_counts().reset_index().rename(columns={\"index\": \"link karma\", \"link_karma\": \"count\"})\n"
   ]
  },
  {
   "cell_type": "markdown",
   "metadata": {},
   "source": [
    "## Users' Comments\n",
    "\n",
    "The tables include 6,711 comments from Russian trolls and 45,131 random comments from other users. \n",
    "\n",
    "The random comments from other users comes from a Google BigQuery dataset of normal Reddit user comments from 2015 to\n",
    "2018. These comments are random samples so I am assuming these for comparison. I use the file used on the paper `Identifying Russian Trolls on Reddit with Deep Learning and BERT Word Embeddings`. "
   ]
  },
  {
   "cell_type": "code",
   "execution_count": 20,
   "metadata": {},
   "outputs": [
    {
     "name": "stderr",
     "output_type": "stream",
     "text": [
      "/Users/connie/.pyenv/versions/3.7.5/lib/python3.7/site-packages/IPython/core/interactiveshell.py:3553: DtypeWarning: Columns (1,2,3,6) have mixed types.Specify dtype option on import or set low_memory=False.\n",
      "  exec(code_obj, self.user_global_ns, self.user_ns)\n"
     ]
    }
   ],
   "source": [
    "# Comments from the Russian Trolls\n",
    "troll_df = pd.read_csv(\"./data/troll_comments.csv\", on_bad_lines='skip')\n",
    "\n",
    "# Random selection of comments from other users for comparison \n",
    "other_df = pd.read_csv(\"./data/nontroll_comments.csv\", on_bad_lines='skip')"
   ]
  },
  {
   "cell_type": "code",
   "execution_count": 21,
   "metadata": {},
   "outputs": [
    {
     "data": {
      "text/plain": [
       "((6711, 28), (45143, 20))"
      ]
     },
     "execution_count": 21,
     "metadata": {},
     "output_type": "execute_result"
    }
   ],
   "source": [
    "troll_df.shape, other_df.shape"
   ]
  },
  {
   "cell_type": "code",
   "execution_count": 22,
   "metadata": {},
   "outputs": [
    {
     "name": "stdout",
     "output_type": "stream",
     "text": [
      "<class 'pandas.core.frame.DataFrame'>\n",
      "RangeIndex: 6711 entries, 0 to 6710\n",
      "Data columns (total 28 columns):\n",
      " #   Column                           Non-Null Count  Dtype  \n",
      "---  ------                           --------------  -----  \n",
      " 0   fullname                         6711 non-null   object \n",
      " 1   archived                         6711 non-null   bool   \n",
      " 2   author.name                      6711 non-null   object \n",
      " 3   author_flair_text                807 non-null    object \n",
      " 4   body                             6711 non-null   object \n",
      " 5   controversiality                 6711 non-null   int64  \n",
      " 6   created_utc                      6711 non-null   float64\n",
      " 7   distinguished                    0 non-null      float64\n",
      " 8   downs                            6711 non-null   int64  \n",
      " 9   edited                           6711 non-null   object \n",
      " 10  gilded                           6711 non-null   int64  \n",
      " 11  id                               6711 non-null   object \n",
      " 12  is_submitter                     6711 non-null   bool   \n",
      " 13  likes                            0 non-null      float64\n",
      " 14  link_author                      6711 non-null   object \n",
      " 15  link_id                          6711 non-null   object \n",
      " 16  link_permalink                   6711 non-null   object \n",
      " 17  link_title                       6711 non-null   object \n",
      " 18  link_url                         6711 non-null   object \n",
      " 19  name                             6711 non-null   object \n",
      " 20  num_comments                     6711 non-null   int64  \n",
      " 21  parent_id                        6711 non-null   object \n",
      " 22  permalink                        6711 non-null   object \n",
      " 23  score                            6711 non-null   int64  \n",
      " 24  stickied                         6711 non-null   bool   \n",
      " 25  subreddit.display_name_prefixed  6711 non-null   object \n",
      " 26  subreddit_type                   6711 non-null   object \n",
      " 27  ups                              6711 non-null   int64  \n",
      "dtypes: bool(3), float64(3), int64(6), object(16)\n",
      "memory usage: 1.3+ MB\n"
     ]
    }
   ],
   "source": [
    "troll_df.info()"
   ]
  },
  {
   "cell_type": "code",
   "execution_count": 23,
   "metadata": {},
   "outputs": [
    {
     "name": "stdout",
     "output_type": "stream",
     "text": [
      "<class 'pandas.core.frame.DataFrame'>\n",
      "RangeIndex: 45143 entries, 0 to 45142\n",
      "Data columns (total 20 columns):\n",
      " #   Column                  Non-Null Count  Dtype  \n",
      "---  ------                  --------------  -----  \n",
      " 0   body                    45143 non-null  object \n",
      " 1   score_hidden            11985 non-null  object \n",
      " 2   archived                11982 non-null  object \n",
      " 3   name                    11981 non-null  object \n",
      " 4   author                  45131 non-null  object \n",
      " 5   author_flair_text       11461 non-null  object \n",
      " 6   downs                   11979 non-null  object \n",
      " 7   created_utc             45129 non-null  float64\n",
      " 8   subreddit_id            45129 non-null  object \n",
      " 9   link_id                 45129 non-null  object \n",
      " 10  parent_id               45129 non-null  object \n",
      " 11  score                   45129 non-null  float64\n",
      " 12  retrieved_on            44990 non-null  float64\n",
      " 13  controversiality        45129 non-null  float64\n",
      " 14  gilded                  45129 non-null  float64\n",
      " 15  id                      45129 non-null  object \n",
      " 16  subreddit               45129 non-null  object \n",
      " 17  ups                     31545 non-null  float64\n",
      " 18  distinguished           497 non-null    object \n",
      " 19  author_flair_css_class  12635 non-null  object \n",
      "dtypes: float64(6), object(14)\n",
      "memory usage: 6.9+ MB\n"
     ]
    }
   ],
   "source": [
    "other_df.info()"
   ]
  },
  {
   "cell_type": "markdown",
   "metadata": {},
   "source": [
    "### Controversiality of Comments Written by Users\n",
    "\n",
    "Controversiality is an attribute of comments and takes values 0 and 1. A value of `1` indicates that a comment has received similar number of ups and down votes, so it is a controversial comment. From the data,\n",
    "\n",
    "- 3.65 % of the troll's comments were controversial\n",
    "- 2.05% of the random comments were controversial \n",
    "\n",
    "Conducting a hypothesis test for difference in proportions with an alpha level of 0.05, we reject the null hypothesis that the two proportions are equal because the p-value is below 0.05."
   ]
  },
  {
   "cell_type": "code",
   "execution_count": 24,
   "metadata": {},
   "outputs": [
    {
     "data": {
      "text/plain": [
       "count    6711.000000\n",
       "mean        0.036507\n",
       "std         0.187563\n",
       "min         0.000000\n",
       "25%         0.000000\n",
       "50%         0.000000\n",
       "75%         0.000000\n",
       "max         1.000000\n",
       "Name: controversiality, dtype: float64"
      ]
     },
     "execution_count": 24,
     "metadata": {},
     "output_type": "execute_result"
    }
   ],
   "source": [
    "troll_df['controversiality'].describe()"
   ]
  },
  {
   "cell_type": "code",
   "execution_count": 25,
   "metadata": {},
   "outputs": [
    {
     "data": {
      "text/plain": [
       "count    45129.000000\n",
       "mean         0.020585\n",
       "std          0.141993\n",
       "min          0.000000\n",
       "25%          0.000000\n",
       "50%          0.000000\n",
       "75%          0.000000\n",
       "max          1.000000\n",
       "Name: controversiality, dtype: float64"
      ]
     },
     "execution_count": 25,
     "metadata": {},
     "output_type": "execute_result"
    }
   ],
   "source": [
    "other_df['controversiality'].describe()"
   ]
  },
  {
   "cell_type": "code",
   "execution_count": 26,
   "metadata": {},
   "outputs": [
    {
     "name": "stdout",
     "output_type": "stream",
     "text": [
      "Number of controversial (1) and non-controversial (0) comments by trolls\n"
     ]
    },
    {
     "data": {
      "text/plain": [
       "0    6466\n",
       "1     245\n",
       "Name: controversiality, dtype: int64"
      ]
     },
     "execution_count": 26,
     "metadata": {},
     "output_type": "execute_result"
    }
   ],
   "source": [
    "print('Number of controversial (1) and non-controversial (0) comments by trolls')\n",
    "troll_df['controversiality'].value_counts()"
   ]
  },
  {
   "cell_type": "code",
   "execution_count": 27,
   "metadata": {},
   "outputs": [
    {
     "name": "stdout",
     "output_type": "stream",
     "text": [
      "Number of controversial (1) and non-controversial (0) comments by non-trolls\n"
     ]
    },
    {
     "data": {
      "text/plain": [
       "0.0    44200\n",
       "1.0      929\n",
       "Name: controversiality, dtype: int64"
      ]
     },
     "execution_count": 27,
     "metadata": {},
     "output_type": "execute_result"
    }
   ],
   "source": [
    "print('Number of controversial (1) and non-controversial (0) comments by non-trolls')\n",
    "other_df['controversiality'].value_counts()"
   ]
  },
  {
   "cell_type": "code",
   "execution_count": 28,
   "metadata": {},
   "outputs": [
    {
     "name": "stdout",
     "output_type": "stream",
     "text": [
      "Two sided z-test: z = 8.1845, p value = 0.0000\n"
     ]
    }
   ],
   "source": [
    "from statsmodels.stats.proportion import proportions_ztest\n",
    "\n",
    "success_cnts = np.array([245, 929])\n",
    "total_cnts = np.array([len(troll_df['controversiality']), len(other_df['controversiality'])])\n",
    "test_stat, pval = proportions_ztest(count=success_cnts, nobs=total_cnts, alternative='two-sided')\n",
    "print('Two sided z-test: z = {:.4f}, p value = {:.4f}'.format(test_stat, pval))"
   ]
  },
  {
   "cell_type": "markdown",
   "metadata": {},
   "source": [
    "### Score of Comments, based on Ups and Down Votes\n",
    "\n",
    "The `ups` and `down` attributes do not have vote counts for up and down votes. It used to have those counts but it was deprecated, so now `ups` has the final score (ups + down votes), while `down` is just 0 for all comments.\n",
    "\n",
    "From summaries below, we see the scores were:\n",
    "\n",
    "- Troll users: The minimum score is -147 and the maximum score, 22872. The average score is 17.6 and the median score, 1.\n",
    "\n",
    "- Non-Troll users: The minimum score is -91 and the maximum score, 4490. The average score is 5.48 and the median score, 1.\n",
    "\n",
    "Furthermore, below we have densities of the scores for trolls and non-trolls, which highlight how different the range of values is for the two. Also, we observe that the mayority of the density of the scores for the non-troll comments is around, but while we observe a peak around zero for trolls as well, it's is much smaller."
   ]
  },
  {
   "cell_type": "code",
   "execution_count": 29,
   "metadata": {},
   "outputs": [
    {
     "data": {
      "text/plain": [
       "count     6711.000000\n",
       "mean        17.600805\n",
       "std        493.183702\n",
       "min       -147.000000\n",
       "25%          1.000000\n",
       "50%          1.000000\n",
       "75%          2.000000\n",
       "max      22872.000000\n",
       "Name: ups, dtype: float64"
      ]
     },
     "execution_count": 29,
     "metadata": {},
     "output_type": "execute_result"
    }
   ],
   "source": [
    "troll_df['ups'].describe()"
   ]
  },
  {
   "cell_type": "code",
   "execution_count": 30,
   "metadata": {},
   "outputs": [
    {
     "data": {
      "text/plain": [
       "count    31545.000000\n",
       "mean         5.485180\n",
       "std         42.969169\n",
       "min        -91.000000\n",
       "25%          1.000000\n",
       "50%          1.000000\n",
       "75%          3.000000\n",
       "max       4490.000000\n",
       "Name: ups, dtype: float64"
      ]
     },
     "execution_count": 30,
     "metadata": {},
     "output_type": "execute_result"
    }
   ],
   "source": [
    "other_df['ups'].describe()"
   ]
  },
  {
   "cell_type": "code",
   "execution_count": 31,
   "metadata": {},
   "outputs": [
    {
     "data": {
      "text/plain": [
       "<matplotlib.axes._subplots.AxesSubplot at 0x12f1d0250>"
      ]
     },
     "execution_count": 31,
     "metadata": {},
     "output_type": "execute_result"
    },
    {
     "data": {
      "image/png": "[encoded data removed]",
      "text/plain": [
       "<Figure size 1200x450 with 2 Axes>"
      ]
     },
     "metadata": {},
     "output_type": "display_data"
    }
   ],
   "source": [
    "plt.subplots(figsize=(12,4.5))\n",
    "plt.subplot(1, 2, 1)\n",
    "plt.title('Density of Scores for Comments \\n Written by Troll Accounts')\n",
    "troll_df.ups.plot.density(color = \"red\")\n",
    "plt.ylim([0, 0.065])\n",
    "plt.subplot(1, 2, 2)\n",
    "plt.title('Density of Scores for Comments \\n Written by Non-Troll Accounts')\n",
    "plt.xlim([-10000, 30000])\n",
    "other_df.ups.plot.density(color = \"green\")"
   ]
  },
  {
   "cell_type": "code",
   "execution_count": 32,
   "metadata": {},
   "outputs": [
    {
     "name": "stdout",
     "output_type": "stream",
     "text": [
      "Score for comments by trolls\n"
     ]
    },
    {
     "data": {
      "text/plain": [
       "-147      1\n",
       "-85       1\n",
       "-69       1\n",
       "-44       1\n",
       "-43       2\n",
       "         ..\n",
       " 11917    1\n",
       " 14097    1\n",
       " 14925    1\n",
       " 22007    1\n",
       " 22872    1\n",
       "Name: ups, Length: 128, dtype: int64"
      ]
     },
     "execution_count": 32,
     "metadata": {},
     "output_type": "execute_result"
    }
   ],
   "source": [
    "print('Score for comments by trolls')\n",
    "troll_df['ups'].value_counts().sort_index()"
   ]
  },
  {
   "cell_type": "code",
   "execution_count": 33,
   "metadata": {},
   "outputs": [
    {
     "name": "stdout",
     "output_type": "stream",
     "text": [
      "Score for comments by non-trolls\n"
     ]
    },
    {
     "data": {
      "text/plain": [
       "-91.0      1\n",
       "-75.0      1\n",
       "-66.0      1\n",
       "-56.0      1\n",
       "-53.0      1\n",
       "          ..\n",
       " 1471.0    1\n",
       " 1574.0    1\n",
       " 1662.0    1\n",
       " 1794.0    1\n",
       " 4490.0    1\n",
       "Name: ups, Length: 305, dtype: int64"
      ]
     },
     "execution_count": 33,
     "metadata": {},
     "output_type": "execute_result"
    }
   ],
   "source": [
    "print('Score for comments by non-trolls')\n",
    "other_df['ups'].value_counts().sort_index()"
   ]
  },
  {
   "cell_type": "code",
   "execution_count": 34,
   "metadata": {},
   "outputs": [
    {
     "data": {
      "text/plain": [
       "(array([6.151e+03, 1.000e+00, 1.000e+00, 2.000e+00, 2.000e+00]),\n",
       " array([    0. ,  4574.4,  9148.8, 13723.2, 18297.6, 22872. ]),\n",
       " <a list of 5 Patch objects>)"
      ]
     },
     "execution_count": 34,
     "metadata": {},
     "output_type": "execute_result"
    },
    {
     "data": {
      "image/png": "[encoded data removed]",
      "text/plain": [
       "<Figure size 1200x450 with 2 Axes>"
      ]
     },
     "metadata": {},
     "output_type": "display_data"
    }
   ],
   "source": [
    "plt.subplots(figsize=(12,4.5))\n",
    "plt.subplot(1, 2, 1)\n",
    "plt.hist(troll_df.ups[troll_df.ups < 0], color = 'red', bins=5)\n",
    "plt.title('Score of Comments Written by Troll Accounts')\n",
    "plt.ylim(0, 6000)\n",
    "plt.subplot(1, 2, 2)\n",
    "plt.hist(troll_df.ups[troll_df.ups >= 0], color = 'green', bins=5)"
   ]
  },
  {
   "cell_type": "code",
   "execution_count": 35,
   "metadata": {},
   "outputs": [
    {
     "data": {
      "text/plain": [
       "(array([3.0103e+04, 1.3000e+01, 0.0000e+00, 0.0000e+00, 1.0000e+00]),\n",
       " array([   0.,  898., 1796., 2694., 3592., 4490.]),\n",
       " <a list of 5 Patch objects>)"
      ]
     },
     "execution_count": 35,
     "metadata": {},
     "output_type": "execute_result"
    },
    {
     "data": {
      "image/png": "[encoded data removed]",
      "text/plain": [
       "<Figure size 1200x450 with 2 Axes>"
      ]
     },
     "metadata": {},
     "output_type": "display_data"
    }
   ],
   "source": [
    "plt.subplots(figsize=(12,4.5))\n",
    "plt.subplot(1, 2, 1)\n",
    "plt.hist(other_df.ups[other_df.ups < 0], color = 'red', bins=5)\n",
    "plt.title('Score of Comments Written by Troll Accounts')\n",
    "plt.ylim(0, 30000)\n",
    "plt.subplot(1, 2, 2)\n",
    "plt.hist(other_df.ups[other_df.ups >= 0], color = 'green', bins=5)"
   ]
  },
  {
   "cell_type": "markdown",
   "metadata": {},
   "source": [
    "### Comments over Time by Trolls: Looking at the Creation Date\n",
    "\n",
    "The comments from Trolls accounts were created between March 2014 and April 2018. In April 2018, Reddit shut down the accounts so there are no more comments after April 9, 2018. The figure below shows that the largest activity starts in May 2015, when we also observed the largest amount of accounts created by trolls (over 700 in that month alone). The most activity is leading up to the primary presidential election in early 2016 and leading up to the presidential election at the end of 2016. We also observe a spike in 2018.\n"
   ]
  },
  {
   "cell_type": "code",
   "execution_count": 36,
   "metadata": {},
   "outputs": [
    {
     "data": {
      "text/plain": [
       "(Timestamp('2014-03-06 09:25:12'), Timestamp('2018-04-09 18:13:42'))"
      ]
     },
     "execution_count": 36,
     "metadata": {},
     "output_type": "execute_result"
    }
   ],
   "source": [
    "troll_df['datetime_m'] = pd.to_datetime(troll_df['created_utc'], unit='s')\n",
    "\n",
    "troll_df.datetime_m.min(), troll_df.datetime_m.max()"
   ]
  },
  {
   "cell_type": "code",
   "execution_count": 37,
   "metadata": {},
   "outputs": [],
   "source": [
    "# function to calculate number of user accounts created by month\n",
    "def get_counts_month(df, key, user_key):\n",
    "    df['datetime'] = pd.to_datetime(df[key])\n",
    "    df = df[[user_key,key, 'datetime']].drop_duplicates()    \n",
    "    start_date = '2014-03-01'\n",
    "    end_date = '2018-04-30'\n",
    "    counts_month = df[[user_key, 'datetime']].groupby(pd.Grouper(key='datetime', freq='w')).count()\n",
    "    counts_month.index = pd.DatetimeIndex(counts_month.index)\n",
    "    idx = pd.date_range(start_date, end_date, freq='w')\n",
    "    counts_month = counts_month.reindex(idx, fill_value=0)\n",
    "    return counts_month\n",
    "def plot_days_counts_agg(list_days_and_counts, path, leg, colors, lines):\n",
    "    fig, ax = plt.subplots(figsize=(12,4.5))\n",
    "\n",
    "    k=0\n",
    "    for days_and_counts in list_days_and_counts:\n",
    "        counts = [x[0] for x in days_and_counts]\n",
    "        days = [datetime.strptime(x[1], '%d-%m-%Y') for x in days_and_counts]\n",
    "        days2 = mdates.date2num(days)\n",
    "        ax.plot_date(days2, counts, colors[k], linestyle=lines[k])\n",
    "        k+=1\n",
    "\n",
    "    months = mdates.MonthLocator(range(1,13), bymonthday=1, interval=3)\n",
    "    monthsFmt = mdates.DateFormatter(\"%m/%y\")     \n",
    "    ax.xaxis.set_major_locator(months)\n",
    "    ax.xaxis.set_major_formatter(monthsFmt)\n",
    "    ax.autoscale_view()\n",
    "\n",
    "    fig.autofmt_xdate()\n",
    "    plt.ylabel('# of comments created')\n",
    "    plt.grid()\n",
    "    plt.xticks(rotation=40)\n",
    "    plt.legend(leg, loc='best', fontsize=13)\n",
    "    plt.margins(x=0)\n",
    "    for tick in ax.xaxis.get_major_ticks():\n",
    "        tick.label1.set_horizontalalignment('center')\n",
    "    for item in ([ax.xaxis.label, ax.yaxis.label] +\n",
    "        ax.get_xticklabels() + ax.get_yticklabels()):\n",
    "        item.set_fontsize(12)\n",
    "    plt.savefig(path, bbox_inches='tight')\n",
    "    plt.show()"
   ]
  },
  {
   "cell_type": "code",
   "execution_count": 38,
   "metadata": {},
   "outputs": [
    {
     "data": {
      "image/png": "[encoded data removed]",
      "text/plain": [
       "<Figure size 1200x450 with 1 Axes>"
      ]
     },
     "metadata": {},
     "output_type": "display_data"
    }
   ],
   "source": [
    "counts_month = get_counts_month(troll_df, 'datetime_m', 'name')\n",
    "counts_per_day = counts_month['name'].tolist()\n",
    "days = counts_month.index.date.tolist()\n",
    "filter_days = [ (i, j.strftime('%d-%m-%Y')) for (i,j) in zip(counts_per_day, days) ]\n",
    "\n",
    "plot_days_counts_agg([filter_days], path='./figures_users/counts_created_comment_week_agg.pdf',\n",
    "                    colors=\"red\", lines=\"-\", \n",
    "                    leg=['Reddit - Russian trolls'])"
   ]
  },
  {
   "cell_type": "markdown",
   "metadata": {},
   "source": [
    "### Comments over Time by Non-Trolls: Looking at the Creation Date\n",
    "\n",
    "The random comments are from 2015 to 2017, but the majority of them were written between January and October 2015."
   ]
  },
  {
   "cell_type": "code",
   "execution_count": 39,
   "metadata": {},
   "outputs": [
    {
     "data": {
      "text/plain": [
       "(Timestamp('2015-01-01 00:18:23'), Timestamp('2017-06-30 22:42:21'))"
      ]
     },
     "execution_count": 39,
     "metadata": {},
     "output_type": "execute_result"
    }
   ],
   "source": [
    "other_df['datetime_m'] = pd.to_datetime(other_df['created_utc'], unit='s')\n",
    "other_df.datetime_m.min(), other_df.datetime_m.max()"
   ]
  },
  {
   "cell_type": "code",
   "execution_count": 40,
   "metadata": {},
   "outputs": [
    {
     "data": {
      "image/png": "[encoded data removed]",
      "text/plain": [
       "<Figure size 1200x450 with 1 Axes>"
      ]
     },
     "metadata": {},
     "output_type": "display_data"
    }
   ],
   "source": [
    "counts_month = get_counts_month(other_df, 'datetime_m', 'name')\n",
    "counts_per_day = counts_month['name'].tolist()\n",
    "days = counts_month.index.date.tolist()\n",
    "filter_days = [ (i, j.strftime('%d-%m-%Y')) for (i,j) in zip(counts_per_day, days) ]\n",
    "\n",
    "plot_days_counts_agg([filter_days], path='./figures_users/counts_created_comment_week_agg.pdf',\n",
    "                    colors=\"green\", lines=\"-\", \n",
    "                    leg=['Reddit - Random Comments'])\n"
   ]
  },
  {
   "cell_type": "markdown",
   "metadata": {},
   "source": [
    "### In which Subreddit were Trolls Most Active?\n",
    "\n",
    "Below we have the top 20 subreddits for the comments written by trolls (and non-trolls). For trolls, we see subreddits dedicated to politics or news: worldnews, Bad_Cop_No_Donut, politics, news, The_Donald, Conservative. There are also subreddits linked to cryptocurrency (CryptoCurrency, Bitcoin, btc, csgobetting), gaming (pcmasterrace, Steam, GlobalOffensive), and popular topics (funny, aww, pics, gifs, Jokes). The top 1 subreddit is AskReddit which is the most popular subreddit.  "
   ]
  },
  {
   "cell_type": "code",
   "execution_count": 41,
   "metadata": {},
   "outputs": [
    {
     "data": {
      "text/plain": [
       "r/AskReddit           792\n",
       "r/CryptoCurrency      581\n",
       "r/worldnews           269\n",
       "r/Bad_Cop_No_Donut    221\n",
       "r/politics            199\n",
       "r/news                199\n",
       "r/funny               192\n",
       "r/newzealand          174\n",
       "r/pcmasterrace        158\n",
       "r/Bitcoin             151\n",
       "r/aww                 139\n",
       "r/pics                 92\n",
       "r/gifs                 78\n",
       "r/Steam                75\n",
       "r/GlobalOffensive      72\n",
       "r/btc                  66\n",
       "r/csgobetting          61\n",
       "r/The_Donald           60\n",
       "r/Jokes                59\n",
       "r/Conservative         57\n",
       "Name: subreddit.display_name_prefixed, dtype: int64"
      ]
     },
     "execution_count": 41,
     "metadata": {},
     "output_type": "execute_result"
    }
   ],
   "source": [
    "troll_df['subreddit.display_name_prefixed'].value_counts().sort_values(ascending=False).head(20)"
   ]
  },
  {
   "cell_type": "code",
   "execution_count": 42,
   "metadata": {},
   "outputs": [
    {
     "data": {
      "text/plain": [
       "AskReddit          3190\n",
       "politics            800\n",
       "leagueoflegends     570\n",
       "worldnews           501\n",
       "funny               487\n",
       "nba                 461\n",
       "nfl                 454\n",
       "news                448\n",
       "pics                431\n",
       "videos              424\n",
       "pcmasterrace        402\n",
       "The_Donald          398\n",
       "SquaredCircle       347\n",
       "soccer              346\n",
       "todayilearned       340\n",
       "movies              308\n",
       "hockey              296\n",
       "gaming              291\n",
       "DestinyTheGame      282\n",
       "DotA2               282\n",
       "Name: subreddit, dtype: int64"
      ]
     },
     "execution_count": 42,
     "metadata": {},
     "output_type": "execute_result"
    }
   ],
   "source": [
    "other_df.subreddit.value_counts().sort_values(ascending=False).head(20)"
   ]
  }
 ],
 "metadata": {
  "kernelspec": {
   "display_name": "Python 3",
   "language": "python",
   "name": "python3"
  },
  "language_info": {
   "codemirror_mode": {
    "name": "ipython",
    "version": 3
   },
   "file_extension": ".py",
   "mimetype": "text/x-python",
   "name": "python",
   "nbconvert_exporter": "python",
   "pygments_lexer": "ipython3",
   "version": "3.7.5"
  },
  "orig_nbformat": 4
 },
 "nbformat": 4,
 "nbformat_minor": 2
}
